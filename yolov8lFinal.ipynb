{
  "nbformat": 4,
  "nbformat_minor": 0,
  "metadata": {
    "colab": {
      "provenance": [],
      "gpuType": "T4",
      "authorship_tag": "ABX9TyOuY7hMmdN5Mtax2p5lU2Jn",
      "include_colab_link": true
    },
    "kernelspec": {
      "name": "python3",
      "display_name": "Python 3"
    },
    "language_info": {
      "name": "python"
    },
    "accelerator": "GPU",
    "gpuClass": "standard"
  },
  "cells": [
    {
      "cell_type": "markdown",
      "metadata": {
        "id": "view-in-github",
        "colab_type": "text"
      },
      "source": [
        "<a href=\"https://colab.research.google.com/github/gurunzpritam/AIT_INTERNSHIP/blob/main/yolov8lFinal.ipynb\" target=\"_parent\"><img src=\"https://colab.research.google.com/assets/colab-badge.svg\" alt=\"Open In Colab\"/></a>"
      ]
    },
    {
      "cell_type": "code",
      "execution_count": null,
      "metadata": {
        "colab": {
          "base_uri": "https://localhost:8080/"
        },
        "id": "RqSQrlH4Yx08",
        "outputId": "7e16d160-6084-46f4-f5e6-e97a73698654"
      },
      "outputs": [
        {
          "output_type": "stream",
          "name": "stdout",
          "text": [
            "Mounted at /content/gdrive\n"
          ]
        }
      ],
      "source": [
        "from google.colab import drive\n",
        "drive.mount('/content/gdrive')"
      ]
    },
    {
      "cell_type": "code",
      "source": [
        "%cd /content/gdrive/MyDrive/AIT"
      ],
      "metadata": {
        "colab": {
          "base_uri": "https://localhost:8080/"
        },
        "id": "o69kenJJY3QK",
        "outputId": "daea3df0-5461-49c7-cc7e-3c69b4cb8d02"
      },
      "execution_count": null,
      "outputs": [
        {
          "output_type": "stream",
          "name": "stdout",
          "text": [
            "/content/gdrive/MyDrive/AIT\n"
          ]
        }
      ]
    },
    {
      "cell_type": "code",
      "source": [
        "!pip install ultralytics -q"
      ],
      "metadata": {
        "id": "_Mpv1-D7ZHqb"
      },
      "execution_count": null,
      "outputs": []
    },
    {
      "cell_type": "code",
      "source": [
        "from ultralytics import YOLO"
      ],
      "metadata": {
        "id": "iQJ2pDD3ZfSl"
      },
      "execution_count": null,
      "outputs": []
    },
    {
      "cell_type": "code",
      "source": [
        "model = YOLO(\"yolov8l.pt\")"
      ],
      "metadata": {
        "id": "5cMqlOEUZPY6"
      },
      "execution_count": null,
      "outputs": []
    },
    {
      "cell_type": "code",
      "source": [
        "!touch data.yaml"
      ],
      "metadata": {
        "id": "O5w8_XQtZeet"
      },
      "execution_count": null,
      "outputs": []
    },
    {
      "cell_type": "code",
      "source": [
        "model.train(data =\"/content/gdrive/MyDrive/AIT/data.yaml\", epochs=50)"
      ],
      "metadata": {
        "colab": {
          "base_uri": "https://localhost:8080/"
        },
        "id": "nN3cNJd3ZjaR",
        "outputId": "3dd724e1-966f-4ec1-8d53-511d0efb32e8"
      },
      "execution_count": null,
      "outputs": [
        {
          "output_type": "stream",
          "name": "stderr",
          "text": [
            "Ultralytics YOLOv8.0.98 🚀 Python-3.10.11 torch-2.0.0+cu118 CUDA:0 (Tesla T4, 15102MiB)\n",
            "\u001b[34m\u001b[1myolo/engine/trainer: \u001b[0mtask=detect, mode=train, model=yolov8l.pt, data=/content/gdrive/MyDrive/AIT/data.yaml, epochs=50, patience=50, batch=16, imgsz=640, save=True, save_period=-1, cache=False, device=None, workers=8, project=None, name=None, exist_ok=False, pretrained=False, optimizer=SGD, verbose=True, seed=0, deterministic=True, single_cls=False, rect=False, cos_lr=False, close_mosaic=0, resume=False, amp=True, overlap_mask=True, mask_ratio=4, dropout=0.0, val=True, split=val, save_json=False, save_hybrid=False, conf=None, iou=0.7, max_det=300, half=False, dnn=False, plots=True, source=None, show=False, save_txt=False, save_conf=False, save_crop=False, show_labels=True, show_conf=True, vid_stride=1, line_width=None, visualize=False, augment=False, agnostic_nms=False, classes=None, retina_masks=False, boxes=True, format=torchscript, keras=False, optimize=False, int8=False, dynamic=False, simplify=False, opset=None, workspace=4, nms=False, lr0=0.01, lrf=0.01, momentum=0.937, weight_decay=0.0005, warmup_epochs=3.0, warmup_momentum=0.8, warmup_bias_lr=0.1, box=7.5, cls=0.5, dfl=1.5, pose=12.0, kobj=1.0, label_smoothing=0.0, nbs=64, hsv_h=0.015, hsv_s=0.7, hsv_v=0.4, degrees=0.0, translate=0.1, scale=0.5, shear=0.0, perspective=0.0, flipud=0.0, fliplr=0.5, mosaic=1.0, mixup=0.0, copy_paste=0.0, cfg=None, v5loader=False, tracker=botsort.yaml, save_dir=runs/detect/train12\n",
            "Downloading https://ultralytics.com/assets/Arial.ttf to /root/.config/Ultralytics/Arial.ttf...\n",
            "100%|██████████| 755k/755k [00:00<00:00, 16.8MB/s]\n",
            "Overriding model.yaml nc=80 with nc=1\n",
            "\n",
            "                   from  n    params  module                                       arguments                     \n",
            "  0                  -1  1      1856  ultralytics.nn.modules.conv.Conv             [3, 64, 3, 2]                 \n",
            "  1                  -1  1     73984  ultralytics.nn.modules.conv.Conv             [64, 128, 3, 2]               \n",
            "  2                  -1  3    279808  ultralytics.nn.modules.block.C2f             [128, 128, 3, True]           \n",
            "  3                  -1  1    295424  ultralytics.nn.modules.conv.Conv             [128, 256, 3, 2]              \n",
            "  4                  -1  6   2101248  ultralytics.nn.modules.block.C2f             [256, 256, 6, True]           \n",
            "  5                  -1  1   1180672  ultralytics.nn.modules.conv.Conv             [256, 512, 3, 2]              \n",
            "  6                  -1  6   8396800  ultralytics.nn.modules.block.C2f             [512, 512, 6, True]           \n",
            "  7                  -1  1   2360320  ultralytics.nn.modules.conv.Conv             [512, 512, 3, 2]              \n",
            "  8                  -1  3   4461568  ultralytics.nn.modules.block.C2f             [512, 512, 3, True]           \n",
            "  9                  -1  1    656896  ultralytics.nn.modules.block.SPPF            [512, 512, 5]                 \n",
            " 10                  -1  1         0  torch.nn.modules.upsampling.Upsample         [None, 2, 'nearest']          \n",
            " 11             [-1, 6]  1         0  ultralytics.nn.modules.conv.Concat           [1]                           \n",
            " 12                  -1  3   4723712  ultralytics.nn.modules.block.C2f             [1024, 512, 3]                \n",
            " 13                  -1  1         0  torch.nn.modules.upsampling.Upsample         [None, 2, 'nearest']          \n",
            " 14             [-1, 4]  1         0  ultralytics.nn.modules.conv.Concat           [1]                           \n",
            " 15                  -1  3   1247744  ultralytics.nn.modules.block.C2f             [768, 256, 3]                 \n",
            " 16                  -1  1    590336  ultralytics.nn.modules.conv.Conv             [256, 256, 3, 2]              \n",
            " 17            [-1, 12]  1         0  ultralytics.nn.modules.conv.Concat           [1]                           \n",
            " 18                  -1  3   4592640  ultralytics.nn.modules.block.C2f             [768, 512, 3]                 \n",
            " 19                  -1  1   2360320  ultralytics.nn.modules.conv.Conv             [512, 512, 3, 2]              \n",
            " 20             [-1, 9]  1         0  ultralytics.nn.modules.conv.Concat           [1]                           \n",
            " 21                  -1  3   4723712  ultralytics.nn.modules.block.C2f             [1024, 512, 3]                \n",
            " 22        [15, 18, 21]  1   5583571  ultralytics.nn.modules.head.Detect           [1, [256, 512, 512]]          \n",
            "Model summary: 365 layers, 43630611 parameters, 43630595 gradients, 165.4 GFLOPs\n",
            "\n",
            "Transferred 589/595 items from pretrained weights\n",
            "\u001b[34m\u001b[1mTensorBoard: \u001b[0mStart with 'tensorboard --logdir runs/detect/train12', view at http://localhost:6006/\n",
            "\u001b[34m\u001b[1mAMP: \u001b[0mrunning Automatic Mixed Precision (AMP) checks with YOLOv8n...\n",
            "\u001b[34m\u001b[1mAMP: \u001b[0mchecks passed ✅\n",
            "\u001b[34m\u001b[1moptimizer:\u001b[0m SGD(lr=0.01) with parameter groups 97 weight(decay=0.0), 104 weight(decay=0.0005), 103 bias\n",
            "\u001b[34m\u001b[1mtrain: \u001b[0mScanning /content/gdrive/MyDrive/AIT/train/labels.cache... 1149 images, 0 backgrounds, 0 corrupt: 100%|██████████| 1149/1149 [00:00<?, ?it/s]\n",
            "\u001b[34m\u001b[1malbumentations: \u001b[0mBlur(p=0.01, blur_limit=(3, 7)), MedianBlur(p=0.01, blur_limit=(3, 7)), ToGray(p=0.01), CLAHE(p=0.01, clip_limit=(1, 4.0), tile_grid_size=(8, 8))\n",
            "\u001b[34m\u001b[1mval: \u001b[0mScanning /content/gdrive/MyDrive/AIT/val/labels.cache... 276 images, 0 backgrounds, 0 corrupt: 100%|██████████| 276/276 [00:00<?, ?it/s]\n",
            "Plotting labels to runs/detect/train12/labels.jpg... \n",
            "Image sizes 640 train, 640 val\n",
            "Using 2 dataloader workers\n",
            "Logging results to \u001b[1mruns/detect/train12\u001b[0m\n",
            "Starting training for 50 epochs...\n",
            "\n",
            "      Epoch    GPU_mem   box_loss   cls_loss   dfl_loss  Instances       Size\n",
            "       1/50      10.4G      1.646      3.122      1.066         35        640: 100%|██████████| 72/72 [01:21<00:00,  1.13s/it]\n",
            "                 Class     Images  Instances      Box(P          R      mAP50  mAP50-95): 100%|██████████| 9/9 [00:22<00:00,  2.50s/it]\n",
            "                   all        276        619      0.609      0.409      0.444      0.239\n",
            "\n",
            "      Epoch    GPU_mem   box_loss   cls_loss   dfl_loss  Instances       Size\n",
            "       2/50      10.6G      1.479      1.541     0.9839         29        640: 100%|██████████| 72/72 [01:05<00:00,  1.10it/s]\n",
            "                 Class     Images  Instances      Box(P          R      mAP50  mAP50-95): 100%|██████████| 9/9 [00:07<00:00,  1.26it/s]\n",
            "                   all        276        619      0.844      0.324      0.519      0.283\n",
            "\n",
            "      Epoch    GPU_mem   box_loss   cls_loss   dfl_loss  Instances       Size\n",
            "       3/50      10.6G      1.645      1.658      1.016         40        640: 100%|██████████| 72/72 [01:03<00:00,  1.13it/s]\n",
            "                 Class     Images  Instances      Box(P          R      mAP50  mAP50-95): 100%|██████████| 9/9 [00:07<00:00,  1.20it/s]\n",
            "                   all        276        619      0.512      0.288      0.296      0.137\n",
            "\n",
            "      Epoch    GPU_mem   box_loss   cls_loss   dfl_loss  Instances       Size\n",
            "       4/50      10.6G      1.787       1.71      1.035         22        640: 100%|██████████| 72/72 [01:02<00:00,  1.14it/s]\n",
            "                 Class     Images  Instances      Box(P          R      mAP50  mAP50-95): 100%|██████████| 9/9 [00:07<00:00,  1.26it/s]\n",
            "                   all        276        619      0.524      0.272      0.296      0.134\n",
            "\n",
            "      Epoch    GPU_mem   box_loss   cls_loss   dfl_loss  Instances       Size\n",
            "       5/50      10.6G      1.796      1.593      1.069         31        640: 100%|██████████| 72/72 [01:02<00:00,  1.15it/s]\n",
            "                 Class     Images  Instances      Box(P          R      mAP50  mAP50-95): 100%|██████████| 9/9 [00:07<00:00,  1.28it/s]\n",
            "                   all        276        619      0.555      0.391      0.384       0.18\n",
            "\n",
            "      Epoch    GPU_mem   box_loss   cls_loss   dfl_loss  Instances       Size\n",
            "       6/50      10.6G      1.848      1.489      1.089         38        640: 100%|██████████| 72/72 [01:03<00:00,  1.14it/s]\n",
            "                 Class     Images  Instances      Box(P          R      mAP50  mAP50-95): 100%|██████████| 9/9 [00:06<00:00,  1.29it/s]\n",
            "                   all        276        619      0.608      0.451      0.476       0.21\n",
            "\n",
            "      Epoch    GPU_mem   box_loss   cls_loss   dfl_loss  Instances       Size\n",
            "       7/50      10.6G      1.837      1.524      1.087         47        640: 100%|██████████| 72/72 [01:02<00:00,  1.15it/s]\n",
            "                 Class     Images  Instances      Box(P          R      mAP50  mAP50-95): 100%|██████████| 9/9 [00:06<00:00,  1.32it/s]\n",
            "                   all        276        619      0.504      0.347       0.34      0.155\n",
            "\n",
            "      Epoch    GPU_mem   box_loss   cls_loss   dfl_loss  Instances       Size\n",
            "       8/50      10.6G      1.817      1.403      1.089         22        640: 100%|██████████| 72/72 [01:02<00:00,  1.15it/s]\n",
            "                 Class     Images  Instances      Box(P          R      mAP50  mAP50-95): 100%|██████████| 9/9 [00:06<00:00,  1.39it/s]\n",
            "                   all        276        619      0.665      0.435      0.487       0.23\n",
            "\n",
            "      Epoch    GPU_mem   box_loss   cls_loss   dfl_loss  Instances       Size\n",
            "       9/50      10.6G      1.762      1.341      1.056         32        640: 100%|██████████| 72/72 [01:03<00:00,  1.13it/s]\n",
            "                 Class     Images  Instances      Box(P          R      mAP50  mAP50-95): 100%|██████████| 9/9 [00:06<00:00,  1.33it/s]\n",
            "                   all        276        619      0.539      0.338      0.343      0.157\n",
            "\n",
            "      Epoch    GPU_mem   box_loss   cls_loss   dfl_loss  Instances       Size\n",
            "      10/50      10.6G       1.78      1.344      1.077         28        640: 100%|██████████| 72/72 [01:03<00:00,  1.13it/s]\n",
            "                 Class     Images  Instances      Box(P          R      mAP50  mAP50-95): 100%|██████████| 9/9 [00:06<00:00,  1.39it/s]\n",
            "                   all        276        619      0.614      0.378      0.396      0.193\n",
            "\n",
            "      Epoch    GPU_mem   box_loss   cls_loss   dfl_loss  Instances       Size\n",
            "      11/50      10.6G      1.742      1.322      1.079         32        640: 100%|██████████| 72/72 [01:03<00:00,  1.13it/s]\n",
            "                 Class     Images  Instances      Box(P          R      mAP50  mAP50-95): 100%|██████████| 9/9 [00:06<00:00,  1.36it/s]\n",
            "                   all        276        619      0.694      0.446      0.504      0.252\n",
            "\n",
            "      Epoch    GPU_mem   box_loss   cls_loss   dfl_loss  Instances       Size\n",
            "      12/50      10.6G      1.694      1.259      1.033         56        640: 100%|██████████| 72/72 [01:03<00:00,  1.13it/s]\n",
            "                 Class     Images  Instances      Box(P          R      mAP50  mAP50-95): 100%|██████████| 9/9 [00:06<00:00,  1.33it/s]\n",
            "                   all        276        619      0.445      0.288      0.306       0.15\n",
            "\n",
            "      Epoch    GPU_mem   box_loss   cls_loss   dfl_loss  Instances       Size\n",
            "      13/50      10.6G      1.681       1.25      1.031         37        640: 100%|██████████| 72/72 [01:03<00:00,  1.13it/s]\n",
            "                 Class     Images  Instances      Box(P          R      mAP50  mAP50-95): 100%|██████████| 9/9 [00:07<00:00,  1.24it/s]\n",
            "                   all        276        619      0.721       0.38      0.446      0.233\n",
            "\n",
            "      Epoch    GPU_mem   box_loss   cls_loss   dfl_loss  Instances       Size\n",
            "      14/50      10.6G      1.655       1.19      1.017         31        640: 100%|██████████| 72/72 [01:05<00:00,  1.10it/s]\n",
            "                 Class     Images  Instances      Box(P          R      mAP50  mAP50-95): 100%|██████████| 9/9 [00:06<00:00,  1.36it/s]\n",
            "                   all        276        619      0.695      0.441      0.489      0.236\n",
            "\n",
            "      Epoch    GPU_mem   box_loss   cls_loss   dfl_loss  Instances       Size\n",
            "      15/50      10.6G       1.61      1.119       1.02         35        640: 100%|██████████| 72/72 [01:05<00:00,  1.10it/s]\n",
            "                 Class     Images  Instances      Box(P          R      mAP50  mAP50-95): 100%|██████████| 9/9 [00:06<00:00,  1.34it/s]\n",
            "                   all        276        619      0.767      0.496      0.584      0.287\n",
            "\n",
            "      Epoch    GPU_mem   box_loss   cls_loss   dfl_loss  Instances       Size\n",
            "      16/50      10.6G      1.624      1.162     0.9971         53        640: 100%|██████████| 72/72 [01:04<00:00,  1.12it/s]\n",
            "                 Class     Images  Instances      Box(P          R      mAP50  mAP50-95): 100%|██████████| 9/9 [00:06<00:00,  1.35it/s]\n",
            "                   all        276        619      0.696      0.548      0.598        0.3\n",
            "\n",
            "      Epoch    GPU_mem   box_loss   cls_loss   dfl_loss  Instances       Size\n",
            "      17/50      10.6G      1.585      1.083      0.998         27        640: 100%|██████████| 72/72 [01:03<00:00,  1.13it/s]\n",
            "                 Class     Images  Instances      Box(P          R      mAP50  mAP50-95): 100%|██████████| 9/9 [00:07<00:00,  1.28it/s]\n",
            "                   all        276        619      0.744      0.475      0.559       0.28\n",
            "\n",
            "      Epoch    GPU_mem   box_loss   cls_loss   dfl_loss  Instances       Size\n",
            "      18/50      10.6G      1.571      1.082     0.9861         34        640: 100%|██████████| 72/72 [01:02<00:00,  1.15it/s]\n",
            "                 Class     Images  Instances      Box(P          R      mAP50  mAP50-95): 100%|██████████| 9/9 [00:06<00:00,  1.34it/s]\n",
            "                   all        276        619       0.73      0.564      0.619      0.323\n",
            "\n",
            "      Epoch    GPU_mem   box_loss   cls_loss   dfl_loss  Instances       Size\n",
            "      19/50      10.6G       1.48      1.019     0.9784         52        640: 100%|██████████| 72/72 [01:03<00:00,  1.14it/s]\n",
            "                 Class     Images  Instances      Box(P          R      mAP50  mAP50-95): 100%|██████████| 9/9 [00:06<00:00,  1.30it/s]\n",
            "                   all        276        619      0.682      0.433      0.484      0.248\n",
            "\n",
            "      Epoch    GPU_mem   box_loss   cls_loss   dfl_loss  Instances       Size\n",
            "      20/50      10.6G      1.525      1.022     0.9767         29        640: 100%|██████████| 72/72 [01:03<00:00,  1.14it/s]\n",
            "                 Class     Images  Instances      Box(P          R      mAP50  mAP50-95): 100%|██████████| 9/9 [00:07<00:00,  1.28it/s]\n",
            "                   all        276        619      0.683      0.543      0.603      0.315\n",
            "\n",
            "      Epoch    GPU_mem   box_loss   cls_loss   dfl_loss  Instances       Size\n",
            "      21/50      10.6G      1.519      1.063     0.9813         42        640: 100%|██████████| 72/72 [01:04<00:00,  1.12it/s]\n",
            "                 Class     Images  Instances      Box(P          R      mAP50  mAP50-95): 100%|██████████| 9/9 [00:07<00:00,  1.22it/s]\n",
            "                   all        276        619      0.741      0.481      0.544      0.284\n",
            "\n",
            "      Epoch    GPU_mem   box_loss   cls_loss   dfl_loss  Instances       Size\n",
            "      22/50      10.6G      1.485      1.003     0.9772         24        640: 100%|██████████| 72/72 [01:03<00:00,  1.13it/s]\n",
            "                 Class     Images  Instances      Box(P          R      mAP50  mAP50-95): 100%|██████████| 9/9 [00:06<00:00,  1.34it/s]\n",
            "                   all        276        619      0.806      0.538      0.641      0.341\n",
            "\n",
            "      Epoch    GPU_mem   box_loss   cls_loss   dfl_loss  Instances       Size\n",
            "      23/50      10.6G      1.466     0.9734     0.9698         64        640: 100%|██████████| 72/72 [01:04<00:00,  1.12it/s]\n",
            "                 Class     Images  Instances      Box(P          R      mAP50  mAP50-95): 100%|██████████| 9/9 [00:07<00:00,  1.15it/s]\n",
            "                   all        276        619      0.775       0.53       0.62      0.343\n",
            "\n",
            "      Epoch    GPU_mem   box_loss   cls_loss   dfl_loss  Instances       Size\n",
            "      24/50      10.6G      1.395     0.9374     0.9518         33        640: 100%|██████████| 72/72 [01:04<00:00,  1.12it/s]\n",
            "                 Class     Images  Instances      Box(P          R      mAP50  mAP50-95): 100%|██████████| 9/9 [00:07<00:00,  1.16it/s]\n",
            "                   all        276        619      0.749      0.546      0.626      0.344\n",
            "\n",
            "      Epoch    GPU_mem   box_loss   cls_loss   dfl_loss  Instances       Size\n",
            "      25/50      10.6G      1.413     0.9205      0.961         30        640: 100%|██████████| 72/72 [01:04<00:00,  1.11it/s]\n",
            "                 Class     Images  Instances      Box(P          R      mAP50  mAP50-95): 100%|██████████| 9/9 [00:08<00:00,  1.07it/s]\n",
            "                   all        276        619      0.819       0.58      0.675      0.378\n",
            "\n",
            "      Epoch    GPU_mem   box_loss   cls_loss   dfl_loss  Instances       Size\n",
            "      26/50      10.6G      1.411     0.9163      0.952         44        640: 100%|██████████| 72/72 [01:06<00:00,  1.09it/s]\n",
            "                 Class     Images  Instances      Box(P          R      mAP50  mAP50-95): 100%|██████████| 9/9 [00:07<00:00,  1.26it/s]\n",
            "                   all        276        619      0.764      0.628      0.686      0.382\n",
            "\n",
            "      Epoch    GPU_mem   box_loss   cls_loss   dfl_loss  Instances       Size\n",
            "      27/50      10.6G      1.389     0.8977       0.95         34        640: 100%|██████████| 72/72 [01:06<00:00,  1.08it/s]\n",
            "                 Class     Images  Instances      Box(P          R      mAP50  mAP50-95): 100%|██████████| 9/9 [00:06<00:00,  1.35it/s]\n",
            "                   all        276        619      0.854      0.535      0.671      0.371\n",
            "\n",
            "      Epoch    GPU_mem   box_loss   cls_loss   dfl_loss  Instances       Size\n",
            "      28/50      10.6G      1.388     0.8933     0.9618         41        640: 100%|██████████| 72/72 [01:04<00:00,  1.12it/s]\n",
            "                 Class     Images  Instances      Box(P          R      mAP50  mAP50-95): 100%|██████████| 9/9 [00:07<00:00,  1.24it/s]\n",
            "                   all        276        619      0.776      0.582      0.661      0.368\n",
            "\n",
            "      Epoch    GPU_mem   box_loss   cls_loss   dfl_loss  Instances       Size\n",
            "      29/50      10.6G      1.344      0.849     0.9331         22        640: 100%|██████████| 72/72 [01:04<00:00,  1.11it/s]\n",
            "                 Class     Images  Instances      Box(P          R      mAP50  mAP50-95): 100%|██████████| 9/9 [00:07<00:00,  1.24it/s]\n",
            "                   all        276        619      0.777      0.582      0.663      0.356\n",
            "\n",
            "      Epoch    GPU_mem   box_loss   cls_loss   dfl_loss  Instances       Size\n",
            "      30/50      10.6G      1.317      0.832     0.9317         43        640: 100%|██████████| 72/72 [01:04<00:00,  1.12it/s]\n",
            "                 Class     Images  Instances      Box(P          R      mAP50  mAP50-95): 100%|██████████| 9/9 [00:07<00:00,  1.19it/s]\n",
            "                   all        276        619      0.786      0.622      0.692      0.393\n",
            "\n",
            "      Epoch    GPU_mem   box_loss   cls_loss   dfl_loss  Instances       Size\n",
            "      31/50      10.6G      1.302     0.8124     0.9193         24        640: 100%|██████████| 72/72 [01:05<00:00,  1.10it/s]\n",
            "                 Class     Images  Instances      Box(P          R      mAP50  mAP50-95): 100%|██████████| 9/9 [00:08<00:00,  1.09it/s]\n",
            "                   all        276        619      0.755      0.613      0.675      0.374\n",
            "\n",
            "      Epoch    GPU_mem   box_loss   cls_loss   dfl_loss  Instances       Size\n",
            "      32/50      10.6G      1.276     0.7798     0.9199         51        640: 100%|██████████| 72/72 [01:03<00:00,  1.13it/s]\n",
            "                 Class     Images  Instances      Box(P          R      mAP50  mAP50-95): 100%|██████████| 9/9 [00:08<00:00,  1.08it/s]\n",
            "                   all        276        619      0.805      0.612      0.683      0.386\n",
            "\n",
            "      Epoch    GPU_mem   box_loss   cls_loss   dfl_loss  Instances       Size\n",
            "      33/50      10.6G      1.292     0.8074     0.9259         26        640: 100%|██████████| 72/72 [01:02<00:00,  1.15it/s]\n",
            "                 Class     Images  Instances      Box(P          R      mAP50  mAP50-95): 100%|██████████| 9/9 [00:08<00:00,  1.09it/s]\n",
            "                   all        276        619      0.766      0.633      0.696      0.395\n",
            "\n",
            "      Epoch    GPU_mem   box_loss   cls_loss   dfl_loss  Instances       Size\n",
            "      34/50      10.6G      1.253     0.7796     0.8954         34        640: 100%|██████████| 72/72 [01:04<00:00,  1.11it/s]\n",
            "                 Class     Images  Instances      Box(P          R      mAP50  mAP50-95): 100%|██████████| 9/9 [00:07<00:00,  1.24it/s]\n",
            "                   all        276        619      0.791      0.656       0.71      0.408\n",
            "\n",
            "      Epoch    GPU_mem   box_loss   cls_loss   dfl_loss  Instances       Size\n",
            "      35/50      10.6G      1.246     0.7482     0.9086         25        640: 100%|██████████| 72/72 [01:05<00:00,  1.09it/s]\n",
            "                 Class     Images  Instances      Box(P          R      mAP50  mAP50-95): 100%|██████████| 9/9 [00:06<00:00,  1.34it/s]\n",
            "                   all        276        619      0.807      0.613      0.698      0.391\n",
            "\n",
            "      Epoch    GPU_mem   box_loss   cls_loss   dfl_loss  Instances       Size\n",
            "      36/50      10.6G      1.248     0.7544     0.9101         31        640: 100%|██████████| 72/72 [01:04<00:00,  1.12it/s]\n",
            "                 Class     Images  Instances      Box(P          R      mAP50  mAP50-95): 100%|██████████| 9/9 [00:06<00:00,  1.34it/s]\n",
            "                   all        276        619       0.81      0.635      0.713      0.404\n",
            "\n",
            "      Epoch    GPU_mem   box_loss   cls_loss   dfl_loss  Instances       Size\n",
            "      37/50      10.6G      1.225     0.7481       0.91         45        640: 100%|██████████| 72/72 [01:04<00:00,  1.12it/s]\n",
            "                 Class     Images  Instances      Box(P          R      mAP50  mAP50-95): 100%|██████████| 9/9 [00:06<00:00,  1.31it/s]\n",
            "                   all        276        619      0.825      0.637      0.713      0.409\n",
            "\n",
            "      Epoch    GPU_mem   box_loss   cls_loss   dfl_loss  Instances       Size\n",
            "      38/50      10.6G       1.21      0.718      0.893         49        640: 100%|██████████| 72/72 [01:04<00:00,  1.12it/s]\n",
            "                 Class     Images  Instances      Box(P          R      mAP50  mAP50-95): 100%|██████████| 9/9 [00:06<00:00,  1.31it/s]\n",
            "                   all        276        619      0.823       0.66      0.734      0.417\n",
            "\n",
            "      Epoch    GPU_mem   box_loss   cls_loss   dfl_loss  Instances       Size\n",
            "      39/50      10.6G      1.202     0.7006     0.8869         32        640: 100%|██████████| 72/72 [01:04<00:00,  1.12it/s]\n",
            "                 Class     Images  Instances      Box(P          R      mAP50  mAP50-95): 100%|██████████| 9/9 [00:07<00:00,  1.16it/s]\n",
            "                   all        276        619      0.802      0.682      0.742      0.421\n",
            "\n",
            "      Epoch    GPU_mem   box_loss   cls_loss   dfl_loss  Instances       Size\n",
            "      40/50      10.6G      1.177     0.7007     0.8826         26        640: 100%|██████████| 72/72 [01:03<00:00,  1.14it/s]\n",
            "                 Class     Images  Instances      Box(P          R      mAP50  mAP50-95): 100%|██████████| 9/9 [00:08<00:00,  1.12it/s]\n",
            "                   all        276        619      0.821      0.628      0.723      0.423\n",
            "\n",
            "      Epoch    GPU_mem   box_loss   cls_loss   dfl_loss  Instances       Size\n",
            "      41/50      10.6G      1.143     0.6819     0.8761         29        640: 100%|██████████| 72/72 [01:03<00:00,  1.13it/s]\n",
            "                 Class     Images  Instances      Box(P          R      mAP50  mAP50-95): 100%|██████████| 9/9 [00:07<00:00,  1.15it/s]\n",
            "                   all        276        619      0.809      0.632      0.721       0.41\n",
            "\n",
            "      Epoch    GPU_mem   box_loss   cls_loss   dfl_loss  Instances       Size\n",
            "      42/50      10.6G      1.126     0.6691     0.8859         56        640: 100%|██████████| 72/72 [01:03<00:00,  1.14it/s]\n",
            "                 Class     Images  Instances      Box(P          R      mAP50  mAP50-95): 100%|██████████| 9/9 [00:07<00:00,  1.14it/s]\n",
            "                   all        276        619      0.782      0.671       0.73      0.417\n",
            "\n",
            "      Epoch    GPU_mem   box_loss   cls_loss   dfl_loss  Instances       Size\n",
            "      43/50      10.6G      1.115     0.6418     0.8733         34        640: 100%|██████████| 72/72 [01:02<00:00,  1.15it/s]\n",
            "                 Class     Images  Instances      Box(P          R      mAP50  mAP50-95): 100%|██████████| 9/9 [00:07<00:00,  1.13it/s]\n",
            "                   all        276        619      0.776      0.685      0.739      0.428\n",
            "\n",
            "      Epoch    GPU_mem   box_loss   cls_loss   dfl_loss  Instances       Size\n",
            "      44/50      10.6G      1.112     0.6163     0.8698         48        640: 100%|██████████| 72/72 [01:03<00:00,  1.13it/s]\n",
            "                 Class     Images  Instances      Box(P          R      mAP50  mAP50-95): 100%|██████████| 9/9 [00:08<00:00,  1.12it/s]\n",
            "                   all        276        619      0.804      0.682      0.746      0.428\n",
            "\n",
            "      Epoch    GPU_mem   box_loss   cls_loss   dfl_loss  Instances       Size\n",
            "      45/50      10.6G      1.096     0.6177     0.8753         61        640: 100%|██████████| 72/72 [01:05<00:00,  1.10it/s]\n",
            "                 Class     Images  Instances      Box(P          R      mAP50  mAP50-95): 100%|██████████| 9/9 [00:07<00:00,  1.26it/s]\n",
            "                   all        276        619      0.848      0.659      0.747      0.437\n",
            "\n",
            "      Epoch    GPU_mem   box_loss   cls_loss   dfl_loss  Instances       Size\n",
            "      46/50      10.6G      1.071     0.6089     0.8735         28        640: 100%|██████████| 72/72 [01:04<00:00,  1.11it/s]\n",
            "                 Class     Images  Instances      Box(P          R      mAP50  mAP50-95): 100%|██████████| 9/9 [00:06<00:00,  1.32it/s]\n",
            "                   all        276        619      0.828      0.675      0.751      0.438\n",
            "\n",
            "      Epoch    GPU_mem   box_loss   cls_loss   dfl_loss  Instances       Size\n",
            "      47/50      10.6G      1.068     0.5998     0.8695         49        640: 100%|██████████| 72/72 [01:03<00:00,  1.13it/s]\n",
            "                 Class     Images  Instances      Box(P          R      mAP50  mAP50-95): 100%|██████████| 9/9 [00:06<00:00,  1.34it/s]\n",
            "                   all        276        619      0.781      0.698      0.739      0.436\n",
            "\n",
            "      Epoch    GPU_mem   box_loss   cls_loss   dfl_loss  Instances       Size\n",
            "      48/50      10.6G      1.061      0.596     0.8657         42        640: 100%|██████████| 72/72 [01:03<00:00,  1.14it/s]\n",
            "                 Class     Images  Instances      Box(P          R      mAP50  mAP50-95): 100%|██████████| 9/9 [00:06<00:00,  1.35it/s]\n",
            "                   all        276        619      0.834      0.675      0.759      0.449\n",
            "\n",
            "      Epoch    GPU_mem   box_loss   cls_loss   dfl_loss  Instances       Size\n",
            "      49/50      10.6G      1.012     0.5702     0.8615         34        640: 100%|██████████| 72/72 [01:04<00:00,  1.11it/s]\n",
            "                 Class     Images  Instances      Box(P          R      mAP50  mAP50-95): 100%|██████████| 9/9 [00:07<00:00,  1.26it/s]\n",
            "                   all        276        619      0.862      0.656       0.76      0.449\n",
            "\n",
            "      Epoch    GPU_mem   box_loss   cls_loss   dfl_loss  Instances       Size\n",
            "      50/50      10.6G      1.036     0.5626     0.8584         42        640: 100%|██████████| 72/72 [01:03<00:00,  1.13it/s]\n",
            "                 Class     Images  Instances      Box(P          R      mAP50  mAP50-95): 100%|██████████| 9/9 [00:12<00:00,  1.37s/it]\n",
            "                   all        276        619      0.863      0.663      0.762      0.452\n",
            "\n",
            "50 epochs completed in 1.040 hours.\n",
            "Optimizer stripped from runs/detect/train12/weights/last.pt, 87.6MB\n",
            "Optimizer stripped from runs/detect/train12/weights/best.pt, 87.6MB\n",
            "\n",
            "Validating runs/detect/train12/weights/best.pt...\n",
            "Ultralytics YOLOv8.0.98 🚀 Python-3.10.11 torch-2.0.0+cu118 CUDA:0 (Tesla T4, 15102MiB)\n",
            "Model summary (fused): 268 layers, 43607379 parameters, 0 gradients, 164.8 GFLOPs\n",
            "                 Class     Images  Instances      Box(P          R      mAP50  mAP50-95): 100%|██████████| 9/9 [00:10<00:00,  1.15s/it]\n",
            "                   all        276        619      0.863      0.663      0.761      0.452\n",
            "Speed: 1.5ms preprocess, 16.5ms inference, 0.0ms loss, 2.9ms postprocess per image\n",
            "Results saved to \u001b[1mruns/detect/train12\u001b[0m\n"
          ]
        }
      ]
    },
    {
      "cell_type": "code",
      "source": [
        "infer = YOLO(\"/content/gdrive/MyDrive/AIT/runs/detect/train12/weights/best.pt\")"
      ],
      "metadata": {
        "id": "wHLBxhmrZeho"
      },
      "execution_count": null,
      "outputs": []
    },
    {
      "cell_type": "code",
      "source": [
        "infer.predict(\"/content/gdrive/MyDrive/AIT/test/img/chaoPraya_01102021_20210923200250.jpg\", save=True, save_txt= True)"
      ],
      "metadata": {
        "colab": {
          "base_uri": "https://localhost:8080/"
        },
        "id": "7oKkHHsskNkU",
        "outputId": "0f8c675c-8dd7-45f6-9fa0-1a5613a5fd75"
      },
      "execution_count": null,
      "outputs": [
        {
          "output_type": "stream",
          "name": "stderr",
          "text": [
            "\n",
            "image 1/1 /content/gdrive/MyDrive/AIT/test/img/chaoPraya_01102021_20210923200250.jpg: 384x640 1 waste, 64.4ms\n",
            "Speed: 2.3ms preprocess, 64.4ms inference, 1.9ms postprocess per image at shape (1, 3, 640, 640)\n",
            "Results saved to \u001b[1mruns/detect/predict5\u001b[0m\n",
            "1 label saved to runs/detect/predict5/labels\n"
          ]
        },
        {
          "output_type": "execute_result",
          "data": {
            "text/plain": [
              "[ultralytics.yolo.engine.results.Results object with attributes:\n",
              " \n",
              " boxes: ultralytics.yolo.engine.results.Boxes object\n",
              " keypoints: None\n",
              " keys: ['boxes']\n",
              " masks: None\n",
              " names: {0: 'waste'}\n",
              " orig_img: array([[[ 64,  63,  65],\n",
              "         [ 65,  64,  66],\n",
              "         [ 66,  65,  67],\n",
              "         ...,\n",
              "         [ 80,  77,  79],\n",
              "         [ 78,  75,  77],\n",
              "         [ 77,  74,  76]],\n",
              " \n",
              "        [[ 66,  65,  67],\n",
              "         [ 66,  65,  67],\n",
              "         [ 65,  64,  66],\n",
              "         ...,\n",
              "         [ 80,  77,  79],\n",
              "         [ 79,  76,  78],\n",
              "         [ 79,  77,  77]],\n",
              " \n",
              "        [[ 65,  64,  66],\n",
              "         [ 65,  64,  66],\n",
              "         [ 64,  63,  65],\n",
              "         ...,\n",
              "         [ 80,  78,  78],\n",
              "         [ 79,  77,  77],\n",
              "         [ 78,  76,  75]],\n",
              " \n",
              "        ...,\n",
              " \n",
              "        [[134, 134, 134],\n",
              "         [133, 133, 133],\n",
              "         [130, 130, 130],\n",
              "         ...,\n",
              "         [120, 115, 114],\n",
              "         [120, 116, 115],\n",
              "         [119, 117, 116]],\n",
              " \n",
              "        [[135, 135, 135],\n",
              "         [134, 134, 134],\n",
              "         [132, 132, 132],\n",
              "         ...,\n",
              "         [122, 117, 116],\n",
              "         [119, 117, 116],\n",
              "         [119, 120, 118]],\n",
              " \n",
              "        [[136, 136, 136],\n",
              "         [135, 135, 135],\n",
              "         [133, 133, 133],\n",
              "         ...,\n",
              "         [123, 119, 118],\n",
              "         [121, 119, 118],\n",
              "         [120, 121, 119]]], dtype=uint8)\n",
              " orig_shape: (2160, 3840)\n",
              " path: '/content/gdrive/MyDrive/AIT/test/img/chaoPraya_01102021_20210923200250.jpg'\n",
              " probs: None\n",
              " speed: {'preprocess': 2.3207664489746094, 'inference': 64.39995765686035, 'postprocess': 1.9450187683105469}]"
            ]
          },
          "metadata": {},
          "execution_count": 14
        }
      ]
    },
    {
      "cell_type": "code",
      "source": [],
      "metadata": {
        "id": "G7HW_-dlh30i"
      },
      "execution_count": null,
      "outputs": []
    },
    {
      "cell_type": "code",
      "source": [],
      "metadata": {
        "id": "77PHX-JFlL-0"
      },
      "execution_count": null,
      "outputs": []
    }
  ]
}